{
 "cells": [
  {
   "cell_type": "code",
   "execution_count": null,
   "id": "2fbb047f",
   "metadata": {},
   "outputs": [],
   "source": [
    "from google_play_scraper import Sort, reviews_all\n",
    "import csv\n",
    "import pandas as pd"
   ]
  },
  {
   "cell_type": "code",
   "execution_count": null,
   "id": "3112cc2d",
   "metadata": {},
   "outputs": [],
   "source": [
    "scrapreview = reviews_all(\n",
    "    'com.kai.kaiticketing',\n",
    "    lang='id',\n",
    "    country='id',\n",
    "    sort=Sort.MOST_RELEVANT,\n",
    "    count=150000\n",
    ")\n",
    "scrapreview_limited = scrapreview[:150000]"
   ]
  },
  {
   "cell_type": "code",
   "execution_count": null,
   "id": "ffefaac8",
   "metadata": {},
   "outputs": [],
   "source": [
    "dataView = pd.DataFrame(scrapreview_limited)\n",
    "dataView.head()"
   ]
  },
  {
   "cell_type": "code",
   "execution_count": null,
   "id": "1ab6e15c",
   "metadata": {},
   "outputs": [],
   "source": [
    "with open('hasil_scraping_Access By KAI.csv', mode='w', newline='', encoding='utf-8') as file:\n",
    "    writer = csv.writer(file)\n",
    "\n",
    "    writer.writerow(['content','score','userName','reviewId','thumbsUpCount'])\n",
    "\n",
    "\n",
    "    for review in scrapreview_limited:\n",
    "        writer.writerow([\n",
    "            review['content'],\n",
    "            review['score'],\n",
    "            review['userName'],\n",
    "            review['reviewId'],\n",
    "            review['thumbsUpCount'],\n",
    "            \n",
    "            \n",
    "            \n",
    "            \n",
    "            \n",
    "        ])"
   ]
  },
  {
   "cell_type": "code",
   "execution_count": null,
   "id": "403be645",
   "metadata": {},
   "outputs": [],
   "source": [
    "print(\"Data telah disimpan ke hasil_scraping_Access by KAI.csv\")"
   ]
  },
  {
   "cell_type": "code",
   "execution_count": null,
   "id": "23935c08",
   "metadata": {},
   "outputs": [],
   "source": []
  }
 ],
 "metadata": {
  "jupytext": {
   "cell_metadata_filter": "-all",
   "main_language": "python",
   "notebook_metadata_filter": "-all"
  }
 },
 "nbformat": 4,
 "nbformat_minor": 5
}
