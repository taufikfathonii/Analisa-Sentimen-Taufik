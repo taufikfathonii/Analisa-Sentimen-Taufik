{
  "cells": [
    {
      "cell_type": "markdown",
      "metadata": {
        "id": "view-in-github",
        "colab_type": "text"
      },
      "source": [
        "<a href=\"https://colab.research.google.com/github/taufikfathonii/Analisa-Sentimen-Taufik/blob/main/Scraping_Data_Sentimen_Analisis_Project_(_Taufik_F_).ipynb\" target=\"_parent\"><img src=\"https://colab.research.google.com/assets/colab-badge.svg\" alt=\"Open In Colab\"/></a>"
      ]
    },
    {
      "cell_type": "markdown",
      "metadata": {
        "id": "iy7og50tCMfk"
      },
      "source": [
        "#Scraping Data"
      ]
    },
    {
      "cell_type": "markdown",
      "metadata": {
        "id": "crF0uriteXN3"
      },
      "source": [
        "1. Library Installation"
      ]
    },
    {
      "cell_type": "code",
      "execution_count": null,
      "metadata": {
        "colab": {
          "base_uri": "https://localhost:8080/"
        },
        "id": "vvImVWHHCAa-",
        "outputId": "7d964d43-0ad2-4dec-b6ee-5b6532caa073"
      },
      "outputs": [
        {
          "output_type": "stream",
          "name": "stdout",
          "text": [
            "Requirement already satisfied: google-play-scraper in /usr/local/lib/python3.11/dist-packages (1.2.7)\n"
          ]
        }
      ],
      "source": [
        "!pip install google-play-scraper"
      ]
    },
    {
      "cell_type": "markdown",
      "metadata": {
        "id": "wgmUovlZebX1"
      },
      "source": [
        "2. Importing Library"
      ]
    },
    {
      "cell_type": "code",
      "execution_count": null,
      "metadata": {
        "id": "TMaG8FEtCPst"
      },
      "outputs": [],
      "source": [
        "from google_play_scraper import Sort, reviews_all\n",
        "import csv\n",
        "import pandas as pd"
      ]
    },
    {
      "cell_type": "markdown",
      "metadata": {
        "id": "HkD2Dqa4el76"
      },
      "source": [
        "3. Scrapping Details"
      ]
    },
    {
      "cell_type": "code",
      "execution_count": null,
      "metadata": {
        "id": "c0OyVYbsCSQf"
      },
      "outputs": [],
      "source": [
        "#Mengambil ulasan dari site\n",
        "scrapreview = reviews_all(\n",
        "    'com.kai.kaiticketing',\n",
        "\n",
        "    lang='id',\n",
        "    country='id',\n",
        "    sort=Sort.MOST_RELEVANT,\n",
        "    count=150000\n",
        ")\n",
        "\n",
        "scrapreview_limited = scrapreview[:150000]"
      ]
    },
    {
      "cell_type": "markdown",
      "metadata": {
        "id": "MJh_ieDTep54"
      },
      "source": [
        "4. Output Details"
      ]
    },
    {
      "cell_type": "code",
      "execution_count": null,
      "metadata": {
        "colab": {
          "base_uri": "https://localhost:8080/",
          "height": 625
        },
        "id": "RDK3Y_xEe8_a",
        "outputId": "c9594cff-4334-410d-c1c9-a455d50635d6"
      },
      "outputs": [
        {
          "output_type": "execute_result",
          "data": {
            "text/plain": [
              "                               reviewId         userName  \\\n",
              "0  a105e9e0-a60b-4078-b9be-15bce3ea609a  Pengguna Google   \n",
              "1  c0ec6dfd-d0ea-437f-b4a2-fff297e9f92f  Pengguna Google   \n",
              "2  d47a288b-f500-4330-a526-489274b1ece3  Pengguna Google   \n",
              "3  6c39952f-1ff5-44d8-bcec-9f78383a89a2  Pengguna Google   \n",
              "4  42cbbf92-969d-4633-828a-3657646dff81  Pengguna Google   \n",
              "\n",
              "                                           userImage  \\\n",
              "0  https://play-lh.googleusercontent.com/EGemoI2N...   \n",
              "1  https://play-lh.googleusercontent.com/EGemoI2N...   \n",
              "2  https://play-lh.googleusercontent.com/EGemoI2N...   \n",
              "3  https://play-lh.googleusercontent.com/EGemoI2N...   \n",
              "4  https://play-lh.googleusercontent.com/EGemoI2N...   \n",
              "\n",
              "                                             content  score  thumbsUpCount  \\\n",
              "0  Aplikasi KAI Acces sebelumnya lebih simple dan...      1           2234   \n",
              "1  Alasan Rating: Tidak kompatibel dengan ponsel ...      3              8   \n",
              "2  Habis di update makin parah, dah saldo berkura...      1             84   \n",
              "3  Entah kenapa appnya yg update terbaru sekarang...      1             73   \n",
              "4  Ini gimana mau pesan tiket susah bgt... OTP ma...      1             34   \n",
              "\n",
              "  reviewCreatedVersion                  at replyContent repliedAt appVersion  \n",
              "0                6.4.1 2024-04-24 23:29:53         None       NaT      6.4.1  \n",
              "1               6.9.13 2025-01-13 06:42:24         None       NaT     6.9.13  \n",
              "2               6.9.13 2025-01-15 13:59:16         None       NaT     6.9.13  \n",
              "3               6.9.11 2025-01-12 14:21:11         None       NaT     6.9.11  \n",
              "4               6.9.11 2025-01-14 07:55:22         None       NaT     6.9.11  "
            ],
            "text/html": [
              "\n",
              "  <div id=\"df-d6490f6e-5f7e-4dfb-badc-f34186fe0f0b\" class=\"colab-df-container\">\n",
              "    <div>\n",
              "<style scoped>\n",
              "    .dataframe tbody tr th:only-of-type {\n",
              "        vertical-align: middle;\n",
              "    }\n",
              "\n",
              "    .dataframe tbody tr th {\n",
              "        vertical-align: top;\n",
              "    }\n",
              "\n",
              "    .dataframe thead th {\n",
              "        text-align: right;\n",
              "    }\n",
              "</style>\n",
              "<table border=\"1\" class=\"dataframe\">\n",
              "  <thead>\n",
              "    <tr style=\"text-align: right;\">\n",
              "      <th></th>\n",
              "      <th>reviewId</th>\n",
              "      <th>userName</th>\n",
              "      <th>userImage</th>\n",
              "      <th>content</th>\n",
              "      <th>score</th>\n",
              "      <th>thumbsUpCount</th>\n",
              "      <th>reviewCreatedVersion</th>\n",
              "      <th>at</th>\n",
              "      <th>replyContent</th>\n",
              "      <th>repliedAt</th>\n",
              "      <th>appVersion</th>\n",
              "    </tr>\n",
              "  </thead>\n",
              "  <tbody>\n",
              "    <tr>\n",
              "      <th>0</th>\n",
              "      <td>a105e9e0-a60b-4078-b9be-15bce3ea609a</td>\n",
              "      <td>Pengguna Google</td>\n",
              "      <td>https://play-lh.googleusercontent.com/EGemoI2N...</td>\n",
              "      <td>Aplikasi KAI Acces sebelumnya lebih simple dan...</td>\n",
              "      <td>1</td>\n",
              "      <td>2234</td>\n",
              "      <td>6.4.1</td>\n",
              "      <td>2024-04-24 23:29:53</td>\n",
              "      <td>None</td>\n",
              "      <td>NaT</td>\n",
              "      <td>6.4.1</td>\n",
              "    </tr>\n",
              "    <tr>\n",
              "      <th>1</th>\n",
              "      <td>c0ec6dfd-d0ea-437f-b4a2-fff297e9f92f</td>\n",
              "      <td>Pengguna Google</td>\n",
              "      <td>https://play-lh.googleusercontent.com/EGemoI2N...</td>\n",
              "      <td>Alasan Rating: Tidak kompatibel dengan ponsel ...</td>\n",
              "      <td>3</td>\n",
              "      <td>8</td>\n",
              "      <td>6.9.13</td>\n",
              "      <td>2025-01-13 06:42:24</td>\n",
              "      <td>None</td>\n",
              "      <td>NaT</td>\n",
              "      <td>6.9.13</td>\n",
              "    </tr>\n",
              "    <tr>\n",
              "      <th>2</th>\n",
              "      <td>d47a288b-f500-4330-a526-489274b1ece3</td>\n",
              "      <td>Pengguna Google</td>\n",
              "      <td>https://play-lh.googleusercontent.com/EGemoI2N...</td>\n",
              "      <td>Habis di update makin parah, dah saldo berkura...</td>\n",
              "      <td>1</td>\n",
              "      <td>84</td>\n",
              "      <td>6.9.13</td>\n",
              "      <td>2025-01-15 13:59:16</td>\n",
              "      <td>None</td>\n",
              "      <td>NaT</td>\n",
              "      <td>6.9.13</td>\n",
              "    </tr>\n",
              "    <tr>\n",
              "      <th>3</th>\n",
              "      <td>6c39952f-1ff5-44d8-bcec-9f78383a89a2</td>\n",
              "      <td>Pengguna Google</td>\n",
              "      <td>https://play-lh.googleusercontent.com/EGemoI2N...</td>\n",
              "      <td>Entah kenapa appnya yg update terbaru sekarang...</td>\n",
              "      <td>1</td>\n",
              "      <td>73</td>\n",
              "      <td>6.9.11</td>\n",
              "      <td>2025-01-12 14:21:11</td>\n",
              "      <td>None</td>\n",
              "      <td>NaT</td>\n",
              "      <td>6.9.11</td>\n",
              "    </tr>\n",
              "    <tr>\n",
              "      <th>4</th>\n",
              "      <td>42cbbf92-969d-4633-828a-3657646dff81</td>\n",
              "      <td>Pengguna Google</td>\n",
              "      <td>https://play-lh.googleusercontent.com/EGemoI2N...</td>\n",
              "      <td>Ini gimana mau pesan tiket susah bgt... OTP ma...</td>\n",
              "      <td>1</td>\n",
              "      <td>34</td>\n",
              "      <td>6.9.11</td>\n",
              "      <td>2025-01-14 07:55:22</td>\n",
              "      <td>None</td>\n",
              "      <td>NaT</td>\n",
              "      <td>6.9.11</td>\n",
              "    </tr>\n",
              "  </tbody>\n",
              "</table>\n",
              "</div>\n",
              "    <div class=\"colab-df-buttons\">\n",
              "\n",
              "  <div class=\"colab-df-container\">\n",
              "    <button class=\"colab-df-convert\" onclick=\"convertToInteractive('df-d6490f6e-5f7e-4dfb-badc-f34186fe0f0b')\"\n",
              "            title=\"Convert this dataframe to an interactive table.\"\n",
              "            style=\"display:none;\">\n",
              "\n",
              "  <svg xmlns=\"http://www.w3.org/2000/svg\" height=\"24px\" viewBox=\"0 -960 960 960\">\n",
              "    <path d=\"M120-120v-720h720v720H120Zm60-500h600v-160H180v160Zm220 220h160v-160H400v160Zm0 220h160v-160H400v160ZM180-400h160v-160H180v160Zm440 0h160v-160H620v160ZM180-180h160v-160H180v160Zm440 0h160v-160H620v160Z\"/>\n",
              "  </svg>\n",
              "    </button>\n",
              "\n",
              "  <style>\n",
              "    .colab-df-container {\n",
              "      display:flex;\n",
              "      gap: 12px;\n",
              "    }\n",
              "\n",
              "    .colab-df-convert {\n",
              "      background-color: #E8F0FE;\n",
              "      border: none;\n",
              "      border-radius: 50%;\n",
              "      cursor: pointer;\n",
              "      display: none;\n",
              "      fill: #1967D2;\n",
              "      height: 32px;\n",
              "      padding: 0 0 0 0;\n",
              "      width: 32px;\n",
              "    }\n",
              "\n",
              "    .colab-df-convert:hover {\n",
              "      background-color: #E2EBFA;\n",
              "      box-shadow: 0px 1px 2px rgba(60, 64, 67, 0.3), 0px 1px 3px 1px rgba(60, 64, 67, 0.15);\n",
              "      fill: #174EA6;\n",
              "    }\n",
              "\n",
              "    .colab-df-buttons div {\n",
              "      margin-bottom: 4px;\n",
              "    }\n",
              "\n",
              "    [theme=dark] .colab-df-convert {\n",
              "      background-color: #3B4455;\n",
              "      fill: #D2E3FC;\n",
              "    }\n",
              "\n",
              "    [theme=dark] .colab-df-convert:hover {\n",
              "      background-color: #434B5C;\n",
              "      box-shadow: 0px 1px 3px 1px rgba(0, 0, 0, 0.15);\n",
              "      filter: drop-shadow(0px 1px 2px rgba(0, 0, 0, 0.3));\n",
              "      fill: #FFFFFF;\n",
              "    }\n",
              "  </style>\n",
              "\n",
              "    <script>\n",
              "      const buttonEl =\n",
              "        document.querySelector('#df-d6490f6e-5f7e-4dfb-badc-f34186fe0f0b button.colab-df-convert');\n",
              "      buttonEl.style.display =\n",
              "        google.colab.kernel.accessAllowed ? 'block' : 'none';\n",
              "\n",
              "      async function convertToInteractive(key) {\n",
              "        const element = document.querySelector('#df-d6490f6e-5f7e-4dfb-badc-f34186fe0f0b');\n",
              "        const dataTable =\n",
              "          await google.colab.kernel.invokeFunction('convertToInteractive',\n",
              "                                                    [key], {});\n",
              "        if (!dataTable) return;\n",
              "\n",
              "        const docLinkHtml = 'Like what you see? Visit the ' +\n",
              "          '<a target=\"_blank\" href=https://colab.research.google.com/notebooks/data_table.ipynb>data table notebook</a>'\n",
              "          + ' to learn more about interactive tables.';\n",
              "        element.innerHTML = '';\n",
              "        dataTable['output_type'] = 'display_data';\n",
              "        await google.colab.output.renderOutput(dataTable, element);\n",
              "        const docLink = document.createElement('div');\n",
              "        docLink.innerHTML = docLinkHtml;\n",
              "        element.appendChild(docLink);\n",
              "      }\n",
              "    </script>\n",
              "  </div>\n",
              "\n",
              "\n",
              "<div id=\"df-369d346c-3275-4a73-ad57-39580f40a3b5\">\n",
              "  <button class=\"colab-df-quickchart\" onclick=\"quickchart('df-369d346c-3275-4a73-ad57-39580f40a3b5')\"\n",
              "            title=\"Suggest charts\"\n",
              "            style=\"display:none;\">\n",
              "\n",
              "<svg xmlns=\"http://www.w3.org/2000/svg\" height=\"24px\"viewBox=\"0 0 24 24\"\n",
              "     width=\"24px\">\n",
              "    <g>\n",
              "        <path d=\"M19 3H5c-1.1 0-2 .9-2 2v14c0 1.1.9 2 2 2h14c1.1 0 2-.9 2-2V5c0-1.1-.9-2-2-2zM9 17H7v-7h2v7zm4 0h-2V7h2v10zm4 0h-2v-4h2v4z\"/>\n",
              "    </g>\n",
              "</svg>\n",
              "  </button>\n",
              "\n",
              "<style>\n",
              "  .colab-df-quickchart {\n",
              "      --bg-color: #E8F0FE;\n",
              "      --fill-color: #1967D2;\n",
              "      --hover-bg-color: #E2EBFA;\n",
              "      --hover-fill-color: #174EA6;\n",
              "      --disabled-fill-color: #AAA;\n",
              "      --disabled-bg-color: #DDD;\n",
              "  }\n",
              "\n",
              "  [theme=dark] .colab-df-quickchart {\n",
              "      --bg-color: #3B4455;\n",
              "      --fill-color: #D2E3FC;\n",
              "      --hover-bg-color: #434B5C;\n",
              "      --hover-fill-color: #FFFFFF;\n",
              "      --disabled-bg-color: #3B4455;\n",
              "      --disabled-fill-color: #666;\n",
              "  }\n",
              "\n",
              "  .colab-df-quickchart {\n",
              "    background-color: var(--bg-color);\n",
              "    border: none;\n",
              "    border-radius: 50%;\n",
              "    cursor: pointer;\n",
              "    display: none;\n",
              "    fill: var(--fill-color);\n",
              "    height: 32px;\n",
              "    padding: 0;\n",
              "    width: 32px;\n",
              "  }\n",
              "\n",
              "  .colab-df-quickchart:hover {\n",
              "    background-color: var(--hover-bg-color);\n",
              "    box-shadow: 0 1px 2px rgba(60, 64, 67, 0.3), 0 1px 3px 1px rgba(60, 64, 67, 0.15);\n",
              "    fill: var(--button-hover-fill-color);\n",
              "  }\n",
              "\n",
              "  .colab-df-quickchart-complete:disabled,\n",
              "  .colab-df-quickchart-complete:disabled:hover {\n",
              "    background-color: var(--disabled-bg-color);\n",
              "    fill: var(--disabled-fill-color);\n",
              "    box-shadow: none;\n",
              "  }\n",
              "\n",
              "  .colab-df-spinner {\n",
              "    border: 2px solid var(--fill-color);\n",
              "    border-color: transparent;\n",
              "    border-bottom-color: var(--fill-color);\n",
              "    animation:\n",
              "      spin 1s steps(1) infinite;\n",
              "  }\n",
              "\n",
              "  @keyframes spin {\n",
              "    0% {\n",
              "      border-color: transparent;\n",
              "      border-bottom-color: var(--fill-color);\n",
              "      border-left-color: var(--fill-color);\n",
              "    }\n",
              "    20% {\n",
              "      border-color: transparent;\n",
              "      border-left-color: var(--fill-color);\n",
              "      border-top-color: var(--fill-color);\n",
              "    }\n",
              "    30% {\n",
              "      border-color: transparent;\n",
              "      border-left-color: var(--fill-color);\n",
              "      border-top-color: var(--fill-color);\n",
              "      border-right-color: var(--fill-color);\n",
              "    }\n",
              "    40% {\n",
              "      border-color: transparent;\n",
              "      border-right-color: var(--fill-color);\n",
              "      border-top-color: var(--fill-color);\n",
              "    }\n",
              "    60% {\n",
              "      border-color: transparent;\n",
              "      border-right-color: var(--fill-color);\n",
              "    }\n",
              "    80% {\n",
              "      border-color: transparent;\n",
              "      border-right-color: var(--fill-color);\n",
              "      border-bottom-color: var(--fill-color);\n",
              "    }\n",
              "    90% {\n",
              "      border-color: transparent;\n",
              "      border-bottom-color: var(--fill-color);\n",
              "    }\n",
              "  }\n",
              "</style>\n",
              "\n",
              "  <script>\n",
              "    async function quickchart(key) {\n",
              "      const quickchartButtonEl =\n",
              "        document.querySelector('#' + key + ' button');\n",
              "      quickchartButtonEl.disabled = true;  // To prevent multiple clicks.\n",
              "      quickchartButtonEl.classList.add('colab-df-spinner');\n",
              "      try {\n",
              "        const charts = await google.colab.kernel.invokeFunction(\n",
              "            'suggestCharts', [key], {});\n",
              "      } catch (error) {\n",
              "        console.error('Error during call to suggestCharts:', error);\n",
              "      }\n",
              "      quickchartButtonEl.classList.remove('colab-df-spinner');\n",
              "      quickchartButtonEl.classList.add('colab-df-quickchart-complete');\n",
              "    }\n",
              "    (() => {\n",
              "      let quickchartButtonEl =\n",
              "        document.querySelector('#df-369d346c-3275-4a73-ad57-39580f40a3b5 button');\n",
              "      quickchartButtonEl.style.display =\n",
              "        google.colab.kernel.accessAllowed ? 'block' : 'none';\n",
              "    })();\n",
              "  </script>\n",
              "</div>\n",
              "\n",
              "    </div>\n",
              "  </div>\n"
            ],
            "application/vnd.google.colaboratory.intrinsic+json": {
              "type": "dataframe",
              "variable_name": "dataView",
              "summary": "{\n  \"name\": \"dataView\",\n  \"rows\": 84049,\n  \"fields\": [\n    {\n      \"column\": \"reviewId\",\n      \"properties\": {\n        \"dtype\": \"string\",\n        \"num_unique_values\": 84049,\n        \"samples\": [\n          \"9f94dca9-30ae-4809-8af5-61e13a9735f2\",\n          \"c67e6814-3d78-4f71-9d94-2efabd9261cd\",\n          \"c1976c95-04c6-4a67-9687-1056ca0ade3c\"\n        ],\n        \"semantic_type\": \"\",\n        \"description\": \"\"\n      }\n    },\n    {\n      \"column\": \"userName\",\n      \"properties\": {\n        \"dtype\": \"category\",\n        \"num_unique_values\": 3550,\n        \"samples\": [\n          \"mul yana\",\n          \"Putri Fuzna Awanisa\",\n          \"Khadi Axcello\"\n        ],\n        \"semantic_type\": \"\",\n        \"description\": \"\"\n      }\n    },\n    {\n      \"column\": \"userImage\",\n      \"properties\": {\n        \"dtype\": \"category\",\n        \"num_unique_values\": 3562,\n        \"samples\": [\n          \"https://play-lh.googleusercontent.com/a/ACg8ocI43EcrCXnTUjteKCcmoA5tCJBIT13OZVjQhgEFWNac6kbdBA=mo\",\n          \"https://play-lh.googleusercontent.com/a-/ALV-UjUV6GBwbI0Th73IbZMzPnqn5QvUZXm7SztTpRb7k3Cu55yjwTNX\",\n          \"https://play-lh.googleusercontent.com/a/ACg8ocJT4d2mikNPWSmONFcykJFUMAHmBP4RlX0ovNW_cuDzev_myg=mo\"\n        ],\n        \"semantic_type\": \"\",\n        \"description\": \"\"\n      }\n    },\n    {\n      \"column\": \"content\",\n      \"properties\": {\n        \"dtype\": \"string\",\n        \"num_unique_values\": 69189,\n        \"samples\": [\n          \"\\ud83d\\ude15\",\n          \"Kita di suruh daftar jadi member, tapi gk bisa terus. Bukannya mempermudah tapi malahan mempersulit\",\n          \"Semakin di update malah semakin eror hadehhhh\"\n        ],\n        \"semantic_type\": \"\",\n        \"description\": \"\"\n      }\n    },\n    {\n      \"column\": \"score\",\n      \"properties\": {\n        \"dtype\": \"number\",\n        \"std\": 1,\n        \"min\": 1,\n        \"max\": 5,\n        \"num_unique_values\": 5,\n        \"samples\": [\n          3,\n          5,\n          4\n        ],\n        \"semantic_type\": \"\",\n        \"description\": \"\"\n      }\n    },\n    {\n      \"column\": \"thumbsUpCount\",\n      \"properties\": {\n        \"dtype\": \"number\",\n        \"std\": 15,\n        \"min\": 0,\n        \"max\": 2234,\n        \"num_unique_values\": 241,\n        \"samples\": [\n          337,\n          4,\n          78\n        ],\n        \"semantic_type\": \"\",\n        \"description\": \"\"\n      }\n    },\n    {\n      \"column\": \"reviewCreatedVersion\",\n      \"properties\": {\n        \"dtype\": \"category\",\n        \"num_unique_values\": 141,\n        \"samples\": [\n          \"5.0.9\",\n          \"4.6.4\",\n          \"4.4.7\"\n        ],\n        \"semantic_type\": \"\",\n        \"description\": \"\"\n      }\n    },\n    {\n      \"column\": \"at\",\n      \"properties\": {\n        \"dtype\": \"date\",\n        \"min\": \"2014-07-16 03:11:28\",\n        \"max\": \"2025-01-18 07:09:42\",\n        \"num_unique_values\": 83965,\n        \"samples\": [\n          \"2020-12-13 05:22:17\",\n          \"2024-10-15 11:31:34\",\n          \"2019-06-08 04:35:28\"\n        ],\n        \"semantic_type\": \"\",\n        \"description\": \"\"\n      }\n    },\n    {\n      \"column\": \"replyContent\",\n      \"properties\": {\n        \"dtype\": \"category\",\n        \"num_unique_values\": 3760,\n        \"samples\": [\n          \"akunnya hilang gimana kak?\",\n          \"Mohon maaf atas kendalanya. Terkait kendala tersebut dapat menghubungi CC 121 untuk mengetahui informasi lebih lanjut.\",\n          \"Terima kasih telah menggunakan KAI Access dan mohon maaf atas ketidaknyamanan yang Anda alami. Untuk merubah data nomor identitas dapat dilakukan dengan menghubungi CC (021) 121 atau informasikan detail permasalahan dan akun KAI Access Anda ke cs@kai.id untuk investigasi lebih lanjut.\"\n        ],\n        \"semantic_type\": \"\",\n        \"description\": \"\"\n      }\n    },\n    {\n      \"column\": \"repliedAt\",\n      \"properties\": {\n        \"dtype\": \"date\",\n        \"min\": \"2014-07-17 03:07:09\",\n        \"max\": \"2025-01-17 03:05:39\",\n        \"num_unique_values\": 10554,\n        \"samples\": [\n          \"2019-08-31 16:23:37\",\n          \"2018-10-01 02:34:51\",\n          \"2023-07-11 08:15:03\"\n        ],\n        \"semantic_type\": \"\",\n        \"description\": \"\"\n      }\n    },\n    {\n      \"column\": \"appVersion\",\n      \"properties\": {\n        \"dtype\": \"category\",\n        \"num_unique_values\": 141,\n        \"samples\": [\n          \"5.0.9\",\n          \"4.6.4\",\n          \"4.4.7\"\n        ],\n        \"semantic_type\": \"\",\n        \"description\": \"\"\n      }\n    }\n  ]\n}"
            }
          },
          "metadata": {},
          "execution_count": 6
        }
      ],
      "source": [
        "dataView = pd.DataFrame(scrapreview_limited)\n",
        "dataView.head()"
      ]
    },
    {
      "cell_type": "code",
      "execution_count": null,
      "metadata": {
        "colab": {
          "base_uri": "https://localhost:8080/"
        },
        "id": "GAyy-HiVCUc2",
        "outputId": "5fb4b9cf-b1e8-41c6-ec97-45f3330ede27"
      },
      "outputs": [
        {
          "output_type": "stream",
          "name": "stdout",
          "text": [
            "Data telah disimpan ke hasil_KAI Access.csv\n"
          ]
        }
      ],
      "source": [
        "with open('hasil_scraping_KAI Access.csv', mode='w', newline='', encoding='utf-8') as file:\n",
        "    writer = csv.writer(file)\n",
        "\n",
        "    writer.writerow(['content','score'])\n",
        "\n",
        "\n",
        "    for review in scrapreview_limited:\n",
        "        writer.writerow([\n",
        "            review['content'],\n",
        "            review.get('score', '')\n",
        "        ])\n",
        "\n",
        "print(\"Data telah disimpan ke hasil_scraping_KAI Access.csv\")"
      ]
    }
  ],
  "metadata": {
    "colab": {
      "provenance": [],
      "include_colab_link": true
    },
    "kernelspec": {
      "display_name": "Python 3",
      "name": "python3"
    },
    "language_info": {
      "name": "python"
    }
  },
  "nbformat": 4,
  "nbformat_minor": 0
}